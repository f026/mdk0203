{
 "cells": [
  {
   "cell_type": "markdown",
   "id": "54d5b1a7-2dc9-4855-a02f-f34b15cf46c9",
   "metadata": {},
   "source": [
    "# task"
   ]
  },
  {
   "cell_type": "code",
   "execution_count": 2,
   "id": "fa083eea-b1f4-4716-88f9-b13e0f7e4d07",
   "metadata": {},
   "outputs": [
    {
     "name": "stdout",
     "output_type": "stream",
     "text": [
      "Длина волны: 299.26 нм\n"
     ]
    }
   ],
   "source": [
    "def get_wv(D0_kJ_per_mol):\n",
    "    # Константы\n",
    "    h = 6.626e-34  # Дж·с\n",
    "    c = 3.00e8     # м/с\n",
    "    avogadro = 6.022e23  # моль⁻¹\n",
    "    kJ_to_J = 1000  # 1 кДж = 1000 Дж\n",
    "\n",
    "    # Переводим D0 из кДж/моль в Дж/молекулу\n",
    "    D0_J_per_molecule = (D0_kJ_per_mol * kJ_to_J) / avogadro\n",
    "\n",
    "    # Находим длину волны в метрах\n",
    "    wavelength_m = h * c / D0_J_per_molecule\n",
    "\n",
    "    # Переводим длину волны в нанометры\n",
    "    wavelength_nm = wavelength_m * 1e9  # 1 м = 1e9 нм\n",
    "\n",
    "    return wavelength_nm\n",
    "\n",
    "# Пример использования:\n",
    "D0 = 400  # Молярная энергия разрыва связи в кДж/моль\n",
    "wavelength = get_wv(D0)\n",
    "print(f\"Длина волны: {wavelength:.2f} нм\")\n"
   ]
  }
 ],
 "metadata": {
  "kernelspec": {
   "display_name": "Python 3 (ipykernel)",
   "language": "python",
   "name": "python3"
  },
  "language_info": {
   "codemirror_mode": {
    "name": "ipython",
    "version": 3
   },
   "file_extension": ".py",
   "mimetype": "text/x-python",
   "name": "python",
   "nbconvert_exporter": "python",
   "pygments_lexer": "ipython3",
   "version": "3.12.7"
  }
 },
 "nbformat": 4,
 "nbformat_minor": 5
}
